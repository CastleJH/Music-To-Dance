{
  "nbformat": 4,
  "nbformat_minor": 0,
  "metadata": {
    "colab": {
      "provenance": [],
      "gpuType": "T4",
      "mount_file_id": "1MepLfg4WLOD-4ln4Onm_VQZ-jjQeWIvY",
      "authorship_tag": "ABX9TyP0PrIiqVeUYsfkVX0e5+X9",
      "include_colab_link": true
    },
    "kernelspec": {
      "name": "python3",
      "display_name": "Python 3"
    },
    "language_info": {
      "name": "python"
    }
  },
  "cells": [
    {
      "cell_type": "markdown",
      "metadata": {
        "id": "view-in-github",
        "colab_type": "text"
      },
      "source": [
        "<a href=\"https://colab.research.google.com/github/CastleJH/Music-To-Dance/blob/main/Music_To_Dance.ipynb\" target=\"_parent\"><img src=\"https://colab.research.google.com/assets/colab-badge.svg\" alt=\"Open In Colab\"/></a>"
      ]
    },
    {
      "cell_type": "code",
      "execution_count": null,
      "metadata": {
        "id": "P9Zi9AMzlkBj"
      },
      "outputs": [],
      "source": [
        "import pickle\n",
        "import os\n",
        "import torch\n",
        "import torch.nn as nn\n",
        "import torch.optim as optim\n",
        "import matplotlib.pyplot as plt\n",
        "from torch.utils.data import DataLoader, Dataset\n",
        "import torchaudio\n",
        "import torchaudio.transforms as transforms\n",
        "from sklearn.model_selection import train_test_split\n",
        "\n",
        "device = torch.device(\"cuda\" if torch.cuda.is_available() else \"cpu\")\n",
        "print(device)"
      ]
    },
    {
      "cell_type": "code",
      "source": [
        "from google.colab import drive\n",
        "drive.mount('/content/drive')"
      ],
      "metadata": {
        "id": "mE913Nz6jhk0"
      },
      "execution_count": null,
      "outputs": []
    },
    {
      "cell_type": "code",
      "source": [
        "#멜스펙트로그램. time과 freq가 transpose되어 나옴.\n",
        "def AudioToMelSpectrogram(waveform, sample_rate, target_frame=900):\n",
        "  if waveform.size(0) > 1:\n",
        "    waveform = waveform.mean(dim = 0)\n",
        "\n",
        "  assert waveform.dim() == 1\n",
        "\n",
        "  n_fft = (waveform.size(0) // target_frame) * 2\n",
        "  mel_spec = transforms.MelSpectrogram(sample_rate=sample_rate, n_fft = n_fft)(waveform)\n",
        "\n",
        "  assert mel_spec.size(1) >= target_frame\n",
        "\n",
        "  mel_spec = mel_spec[:, :target_frame]\n",
        "  mel_spec_db = transforms.AmplitudeToDB()(mel_spec)\n",
        "  mel_spec_db = torch.transpose(mel_spec_db, 0, 1)\n",
        "\n",
        "  return mel_spec_db"
      ],
      "metadata": {
        "id": "opzbRU3LUj61"
      },
      "execution_count": null,
      "outputs": []
    },
    {
      "cell_type": "code",
      "source": [
        "#데이터셋\n",
        "class MusicDanceDataset(Dataset):\n",
        "  def __init__(self, music_data_path, dance_data_path, num_keyframe):\n",
        "    self.music_data_path = music_data_path\n",
        "    self.dance_data_path = dance_data_path\n",
        "    self.num_keyframe = num_keyframe\n",
        "    self.music_data, self.dance_data = self.PreprocessData()\n",
        "\n",
        "  # 데이터 준비\n",
        "  def PreprocessData(self):\n",
        "    file_list = os.listdir(self.dance_data_path)\n",
        "    dance_data = []\n",
        "    tmp_dance_data = []\n",
        "    music_data = []\n",
        "\n",
        "    minFrameNum = 10000000\n",
        "\n",
        "    minX = 100000000\n",
        "    maxX = 0\n",
        "    minY = 100000000\n",
        "    maxY = 0\n",
        "\n",
        "    #각 파일 읽기\n",
        "    for file_name in file_list:\n",
        "      dance_file_path = os.path.join(self.dance_data_path, file_name)\n",
        "      with open(dance_file_path, 'rb') as file:\n",
        "        data = pickle.load(file)\n",
        "\n",
        "      # 0번 카메라의 키포인트 데이터 가져오기\n",
        "      tmp_result = []\n",
        "      for seq in range(len(data[\"keypoints2d\"][0])):\n",
        "        one_seq = []\n",
        "        for keypoint in range(len(data[\"keypoints2d\"][0][0])):\n",
        "          one_seq.append(float(data[\"keypoints2d\"][0][seq][keypoint][0]))\n",
        "          minX = min(minX, float(data[\"keypoints2d\"][0][seq][keypoint][0]))\n",
        "          maxX = max(maxX, float(data[\"keypoints2d\"][0][seq][keypoint][0]))\n",
        "          one_seq.append(float(data[\"keypoints2d\"][0][seq][keypoint][1]))\n",
        "          minY = min(minY, float(data[\"keypoints2d\"][0][seq][keypoint][1]))\n",
        "          maxY = max(maxY, float(data[\"keypoints2d\"][0][seq][keypoint][1]))\n",
        "        tmp_result.append(one_seq)\n",
        "      tmp_dance_data.append(tmp_result)\n",
        "\n",
        "    # 0~1 사이로 축소\n",
        "    for data in tmp_dance_data:\n",
        "      real_result = []\n",
        "      for seq in data:\n",
        "        tmp_seq = []\n",
        "        for idx in range(self.num_keyframe // 2):\n",
        "          tmp_seq.append((seq[idx * 2] - minX) / (maxX - minX))\n",
        "          tmp_seq.append((seq[idx * 2 + 1] - minY) / (maxY - minY))\n",
        "        real_result.append(tmp_seq)\n",
        "      dance_data.append(real_result)\n",
        "\n",
        "      #길이 맞나 확인\n",
        "      num_frames = len(real_result)\n",
        "      minFrameNum = min(minFrameNum, num_frames)\n",
        "      assert len(real_result[0]) == self.num_keyframe\n",
        "\n",
        "      #멜스펙트로그램으로 변환\n",
        "      music_file_name = file_name.split('.')[0]+'.wav'\n",
        "      music_file_path = os.path.join(self.music_data_path, music_file_name)\n",
        "\n",
        "      waveform, sample_rate = torchaudio.load(music_file_path)\n",
        "      mel_spectrogram_db = AudioToMelSpectrogram(waveform, sample_rate, num_frames)\n",
        "      music_data.append(mel_spectrogram_db)\n",
        "\n",
        "    ret_dance_data = []\n",
        "    for seq in dance_data:\n",
        "      seq = seq[:minFrameNum]\n",
        "      ret_dance_data.append(seq)\n",
        "    ret_music_data = []\n",
        "    for seq in music_data:\n",
        "      seq = seq[:minFrameNum, :]\n",
        "      ret_music_data.append(seq)\n",
        "\n",
        "    dance_data = torch.tensor(ret_dance_data)\n",
        "    music_data = torch.stack(ret_music_data)\n",
        "    return music_data, dance_data\n",
        "\n",
        "  def __len__(self):\n",
        "      return len(self.music_data)\n",
        "\n",
        "  def __getitem__(self, index):\n",
        "      music_sample = self.music_data[index]\n",
        "      dance_sample = self.dance_data[index]\n",
        "      return music_sample, dance_sample"
      ],
      "metadata": {
        "id": "HLsAJyENutdm"
      },
      "execution_count": null,
      "outputs": []
    },
    {
      "cell_type": "code",
      "source": [
        "mel_freq_size = 128\n",
        "hidden_size = 256\n",
        "num_keyframes = 34\n",
        "learning_rate = 0.001\n",
        "num_epochs = 50\n",
        "batch_size = 8\n",
        "\n",
        "# 데이터셋\n",
        "dataset = MusicDanceDataset(\"/content/drive/MyDrive/Data/AIST_Audio\", \"/content/drive/MyDrive/Data/AIST_pkl\", num_keyframes)\n",
        "\n",
        "# Train, Valid, Test 데이터로더\n",
        "train_data, val_data = train_test_split(dataset, test_size=0.15)\n",
        "\n",
        "train_loader = torch.utils.data.DataLoader(train_data, batch_size=batch_size, shuffle=True)\n",
        "val_loader = torch.utils.data.DataLoader(val_data, batch_size=batch_size, shuffle=False)"
      ],
      "metadata": {
        "id": "Np-z92WXuwee"
      },
      "execution_count": null,
      "outputs": []
    },
    {
      "cell_type": "code",
      "source": [
        "class MusicToDanceModel(nn.Module):\n",
        "    def __init__(self, input_size, hidden_size, output_size):\n",
        "        super(MusicToDanceModel, self).__init__()\n",
        "        self.hidden_size = hidden_size\n",
        "        self.rnn = nn.GRU(input_size, hidden_size, num_layers=1, batch_first=True)\n",
        "        self.fcs = nn.Sequential(\n",
        "            nn.Dropout(0.25),\n",
        "            nn.Linear(hidden_size, hidden_size * 2),\n",
        "            nn.Sigmoid(),\n",
        "            nn.Dropout(0.25),\n",
        "            nn.Linear(hidden_size * 2, output_size),\n",
        "            nn.Sigmoid(),\n",
        "        )\n",
        "\n",
        "    def forward(self, x):\n",
        "        batch_size = x.size(0)\n",
        "        hidden = self.init_hidden(batch_size)\n",
        "        out, _ = self.rnn(x, hidden)\n",
        "        out = self.fcs(out)\n",
        "        return out\n",
        "\n",
        "    def init_hidden(self, batch_size):\n",
        "        return torch.zeros(1, batch_size, self.hidden_size)"
      ],
      "metadata": {
        "id": "luRCFmUZupMC"
      },
      "execution_count": null,
      "outputs": []
    },
    {
      "cell_type": "code",
      "source": [
        "print(dataset.music_data)\n",
        "print(dataset.dance_data)"
      ],
      "metadata": {
        "colab": {
          "base_uri": "https://localhost:8080/"
        },
        "id": "wImAL8FxOCfV",
        "outputId": "24085e23-5434-4d83-b552-c37212b9d3f4"
      },
      "execution_count": null,
      "outputs": [
        {
          "output_type": "stream",
          "name": "stdout",
          "text": [
            "tensor([[[ 21.3650,  25.8131,  16.9368,  ..., -14.2369, -16.2971, -18.3349],\n",
            "         [ 40.2842,  45.5567,  50.9740,  ..., -11.8898, -13.9639, -15.6450],\n",
            "         [ 34.1519,  58.1995,  60.0658,  ..., -24.5175, -24.3936, -26.2053],\n",
            "         ...,\n",
            "         [ 35.5086,  56.2832,  56.7466,  ..., -27.2616, -27.9616, -25.3058],\n",
            "         [ 38.1227,  60.4746,  58.2811,  ..., -38.2483, -39.1355, -38.5390],\n",
            "         [ 37.8443,  60.5185,  57.5330,  ..., -26.3644, -27.5620, -25.8991]],\n",
            "\n",
            "        [[ 27.6568,  28.0836,  28.4372,  ..., -11.9497, -14.1104, -16.1214],\n",
            "         [ 41.1507,  50.0828,  55.1638,  ..., -12.5564, -14.4924, -16.1223],\n",
            "         [ 38.9976,  59.0809,  59.7789,  ..., -23.6137, -23.1834, -24.2725],\n",
            "         ...,\n",
            "         [ 21.7094,  36.4449,  39.8366,  ..., -15.3820, -15.1801, -14.5263],\n",
            "         [ 37.3248,  43.5391,  52.0472,  ..., -16.9947, -16.7204, -15.3717],\n",
            "         [ 37.3562,  58.1267,  59.6744,  ..., -20.2875, -19.9658, -20.0891]],\n",
            "\n",
            "        [[ 31.1033,  31.5753,  30.8803,  ..., -10.2442, -12.4599, -14.4517],\n",
            "         [ 40.2588,  53.5099,  58.0613,  ..., -13.2109, -15.0112, -16.6054],\n",
            "         [ 34.8258,  59.3443,  59.6242,  ..., -22.6134, -22.0991, -22.5711],\n",
            "         ...,\n",
            "         [ 38.1938,  59.9903,  56.3598,  ..., -14.0171, -14.0696, -13.9974],\n",
            "         [ 38.3727,  57.5393,  53.0845,  ..., -15.6859, -16.3395, -13.5538],\n",
            "         [ 37.2787,  48.9664,  46.6177,  ..., -18.8689, -20.5972, -19.6011]],\n",
            "\n",
            "        ...,\n",
            "\n",
            "        [[ 27.6568,  28.0836,  28.4372,  ..., -11.9497, -14.1104, -16.1214],\n",
            "         [ 41.1507,  50.0828,  55.1638,  ..., -12.5564, -14.4924, -16.1223],\n",
            "         [ 38.9976,  59.0809,  59.7789,  ..., -23.6137, -23.1834, -24.2725],\n",
            "         ...,\n",
            "         [ 21.7094,  36.4449,  39.8366,  ..., -15.3820, -15.1801, -14.5263],\n",
            "         [ 37.3248,  43.5391,  52.0472,  ..., -16.9947, -16.7204, -15.3717],\n",
            "         [ 37.3562,  58.1267,  59.6744,  ..., -20.2875, -19.9658, -20.0891]],\n",
            "\n",
            "        [[ 35.2397,  36.5028,  33.0910,  ...,  -7.8110, -10.0745, -12.0356],\n",
            "         [ 39.7888,  57.8746,  61.6973,  ..., -14.3540, -15.8624, -17.4313],\n",
            "         [ 39.2652,  59.9482,  60.1179,  ..., -21.3323, -21.0761, -21.0484],\n",
            "         ...,\n",
            "         [ 41.5544,  51.4715,  57.9506,  ..., -21.8905, -20.7903, -17.1419],\n",
            "         [ 34.5584,  60.2364,  60.9752,  ..., -35.6538, -36.7116, -36.8877],\n",
            "         [ 39.1290,  63.2847,  61.1429,  ..., -36.9033, -37.5550, -38.1246]],\n",
            "\n",
            "        [[ 33.4098,  34.2863,  32.1466,  ...,  -8.8924, -11.1393, -13.1147],\n",
            "         [ 41.0638,  55.7250,  60.3365,  ..., -13.8222, -15.4804, -17.0546],\n",
            "         [ 36.7381,  59.4816,  59.6547,  ..., -21.8249, -21.3894, -21.5540],\n",
            "         ...,\n",
            "         [ 43.6227,  62.5053,  60.4433,  ..., -26.6199, -26.7714, -26.0154],\n",
            "         [ 44.0389,  62.2972,  59.3663,  ..., -12.0096, -13.7428, -15.6982],\n",
            "         [ 43.5477,  60.7437,  57.4804,  ..., -15.4276, -16.6661, -16.0035]]])\n",
            "tensor([[[0.5318, 0.1677, 0.5374,  ..., 0.7260, 0.5089, 0.6692],\n",
            "         [0.5313, 0.1722, 0.5374,  ..., 0.7260, 0.5084, 0.6647],\n",
            "         [0.5318, 0.1751, 0.5380,  ..., 0.7275, 0.5078, 0.6677],\n",
            "         ...,\n",
            "         [0.5810, 0.1527, 0.5860,  ..., 0.6886, 0.5536, 0.5494],\n",
            "         [0.5816, 0.1482, 0.5866,  ..., 0.6886, 0.5508, 0.5419],\n",
            "         [0.5804, 0.1437, 0.5855,  ..., 0.6856, 0.5469, 0.5434]],\n",
            "\n",
            "        [[0.5251, 0.1662, 0.5302,  ..., 0.7485, 0.5061, 0.6841],\n",
            "         [0.5274, 0.1662, 0.5324,  ..., 0.7485, 0.5050, 0.6796],\n",
            "         [0.5251, 0.1677, 0.5318,  ..., 0.7515, 0.5045, 0.6781],\n",
            "         ...,\n",
            "         [0.5648, 0.1796, 0.5709,  ..., 0.7231, 0.5285, 0.6961],\n",
            "         [0.5637, 0.1826, 0.5698,  ..., 0.7380, 0.5268, 0.6931],\n",
            "         [0.5637, 0.1886, 0.5704,  ..., 0.7455, 0.5263, 0.6976]],\n",
            "\n",
            "        [[0.5296, 0.1781, 0.5341,  ..., 0.7380, 0.5022, 0.6826],\n",
            "         [0.5263, 0.1766, 0.5324,  ..., 0.7365, 0.5022, 0.6781],\n",
            "         [0.5251, 0.1737, 0.5313,  ..., 0.7365, 0.5017, 0.6781],\n",
            "         ...,\n",
            "         [0.5274, 0.1482, 0.5324,  ..., 0.6871, 0.5464, 0.6811],\n",
            "         [0.5274, 0.1527, 0.5335,  ..., 0.6886, 0.5469, 0.6856],\n",
            "         [0.5291, 0.1497, 0.5335,  ..., 0.6916, 0.5469, 0.6826]],\n",
            "\n",
            "        ...,\n",
            "\n",
            "        [[0.5218, 0.1557, 0.5263,  ..., 0.7051, 0.4849, 0.7021],\n",
            "         [0.5218, 0.1557, 0.5263,  ..., 0.7051, 0.4849, 0.7021],\n",
            "         [0.5218, 0.1557, 0.5263,  ..., 0.7021, 0.4860, 0.6991],\n",
            "         ...,\n",
            "         [0.5330, 0.1572, 0.5380,  ..., 0.7156, 0.4782, 0.6766],\n",
            "         [0.5313, 0.1587, 0.5369,  ..., 0.7126, 0.4760, 0.6766],\n",
            "         [0.5318, 0.1557, 0.5363,  ..., 0.7126, 0.4743, 0.6781]],\n",
            "\n",
            "        [[0.5503, 0.1587, 0.5553,  ..., 0.6976, 0.5352, 0.7111],\n",
            "         [0.5497, 0.1587, 0.5542,  ..., 0.6991, 0.5341, 0.7081],\n",
            "         [0.5503, 0.1617, 0.5547,  ..., 0.6976, 0.5352, 0.7066],\n",
            "         ...,\n",
            "         [0.5525, 0.1617, 0.5575,  ..., 0.7036, 0.5374, 0.7126],\n",
            "         [0.5525, 0.1617, 0.5570,  ..., 0.7021, 0.5374, 0.7126],\n",
            "         [0.5525, 0.1617, 0.5575,  ..., 0.7036, 0.5374, 0.7111]],\n",
            "\n",
            "        [[0.5469, 0.1557, 0.5520,  ..., 0.7111, 0.5341, 0.7246],\n",
            "         [0.5458, 0.1557, 0.5520,  ..., 0.7126, 0.5341, 0.7260],\n",
            "         [0.5458, 0.1557, 0.5520,  ..., 0.7111, 0.5341, 0.7246],\n",
            "         ...,\n",
            "         [0.5536, 0.1602, 0.5581,  ..., 0.7141, 0.5391, 0.7305],\n",
            "         [0.5542, 0.1602, 0.5587,  ..., 0.7171, 0.5385, 0.7290],\n",
            "         [0.5542, 0.1632, 0.5592,  ..., 0.7141, 0.5397, 0.7335]]])\n"
          ]
        }
      ]
    },
    {
      "cell_type": "code",
      "source": [
        "# 모델\n",
        "model = MusicToDanceModel(mel_freq_size, hidden_size, num_keyframes)\n",
        "\n",
        "# loss\n",
        "criterion = nn.MSELoss()\n",
        "\n",
        "# optimizer\n",
        "optimizer = torch.optim.Adam(model.parameters(), lr=learning_rate)"
      ],
      "metadata": {
        "id": "hOEVflxskSa1"
      },
      "execution_count": null,
      "outputs": []
    },
    {
      "cell_type": "code",
      "source": [
        "train_loss = []\n",
        "valid_loss = []\n",
        "\n",
        "for epoch in range(num_epochs):\n",
        "    model.train()\n",
        "    tot_loss = 0\n",
        "    for music, dance in train_loader:\n",
        "        output = model(music)\n",
        "\n",
        "        loss = criterion(output, dance)\n",
        "\n",
        "        loss.backward()\n",
        "        optimizer.step()\n",
        "        optimizer.zero_grad()\n",
        "\n",
        "        tot_loss += loss.item()\n",
        "    avg_loss = tot_loss / len(train_loader)\n",
        "    train_loss.append(avg_loss)\n",
        "\n",
        "    model.eval()\n",
        "    val_loss = 0\n",
        "    with torch.no_grad():\n",
        "        for music, dance in val_loader:\n",
        "            output = model(music)\n",
        "            val_loss += criterion(output, dance).item()\n",
        "\n",
        "    avg_val_loss = val_loss / len(val_loader)\n",
        "    valid_loss.append(avg_val_loss)\n",
        "\n",
        "    print(f\"Epoch [{epoch+1}/{num_epochs}], Train Loss: {avg_loss:.4f}, Validation Loss: {avg_val_loss:.4f}\")"
      ],
      "metadata": {
        "colab": {
          "base_uri": "https://localhost:8080/"
        },
        "id": "TtYDFIV3u5_F",
        "outputId": "ad1853bf-0251-407c-fa5e-6d3eb65b4df8"
      },
      "execution_count": null,
      "outputs": [
        {
          "output_type": "stream",
          "name": "stdout",
          "text": [
            "Epoch [1/50], Train Loss: 0.0159, Validation Loss: 0.0055\n",
            "Epoch [2/50], Train Loss: 0.0053, Validation Loss: 0.0051\n",
            "Epoch [3/50], Train Loss: 0.0045, Validation Loss: 0.0048\n",
            "Epoch [4/50], Train Loss: 0.0037, Validation Loss: 0.0041\n",
            "Epoch [5/50], Train Loss: 0.0036, Validation Loss: 0.0040\n",
            "Epoch [6/50], Train Loss: 0.0033, Validation Loss: 0.0040\n",
            "Epoch [7/50], Train Loss: 0.0031, Validation Loss: 0.0039\n",
            "Epoch [8/50], Train Loss: 0.0032, Validation Loss: 0.0040\n",
            "Epoch [9/50], Train Loss: 0.0030, Validation Loss: 0.0039\n",
            "Epoch [10/50], Train Loss: 0.0029, Validation Loss: 0.0039\n",
            "Epoch [11/50], Train Loss: 0.0028, Validation Loss: 0.0039\n",
            "Epoch [12/50], Train Loss: 0.0032, Validation Loss: 0.0038\n",
            "Epoch [13/50], Train Loss: 0.0029, Validation Loss: 0.0039\n",
            "Epoch [14/50], Train Loss: 0.0027, Validation Loss: 0.0038\n",
            "Epoch [15/50], Train Loss: 0.0027, Validation Loss: 0.0038\n",
            "Epoch [16/50], Train Loss: 0.0027, Validation Loss: 0.0039\n",
            "Epoch [17/50], Train Loss: 0.0028, Validation Loss: 0.0038\n",
            "Epoch [18/50], Train Loss: 0.0029, Validation Loss: 0.0039\n",
            "Epoch [19/50], Train Loss: 0.0028, Validation Loss: 0.0039\n",
            "Epoch [20/50], Train Loss: 0.0027, Validation Loss: 0.0038\n",
            "Epoch [21/50], Train Loss: 0.0027, Validation Loss: 0.0039\n",
            "Epoch [22/50], Train Loss: 0.0028, Validation Loss: 0.0038\n",
            "Epoch [23/50], Train Loss: 0.0027, Validation Loss: 0.0038\n",
            "Epoch [24/50], Train Loss: 0.0027, Validation Loss: 0.0039\n",
            "Epoch [25/50], Train Loss: 0.0026, Validation Loss: 0.0039\n",
            "Epoch [26/50], Train Loss: 0.0028, Validation Loss: 0.0038\n",
            "Epoch [27/50], Train Loss: 0.0026, Validation Loss: 0.0039\n",
            "Epoch [28/50], Train Loss: 0.0027, Validation Loss: 0.0039\n",
            "Epoch [29/50], Train Loss: 0.0026, Validation Loss: 0.0038\n",
            "Epoch [30/50], Train Loss: 0.0026, Validation Loss: 0.0039\n",
            "Epoch [31/50], Train Loss: 0.0026, Validation Loss: 0.0038\n",
            "Epoch [32/50], Train Loss: 0.0026, Validation Loss: 0.0038\n",
            "Epoch [33/50], Train Loss: 0.0026, Validation Loss: 0.0039\n",
            "Epoch [34/50], Train Loss: 0.0029, Validation Loss: 0.0039\n",
            "Epoch [35/50], Train Loss: 0.0026, Validation Loss: 0.0038\n",
            "Epoch [36/50], Train Loss: 0.0026, Validation Loss: 0.0039\n",
            "Epoch [37/50], Train Loss: 0.0025, Validation Loss: 0.0038\n",
            "Epoch [38/50], Train Loss: 0.0025, Validation Loss: 0.0039\n",
            "Epoch [39/50], Train Loss: 0.0026, Validation Loss: 0.0039\n",
            "Epoch [40/50], Train Loss: 0.0025, Validation Loss: 0.0038\n",
            "Epoch [41/50], Train Loss: 0.0027, Validation Loss: 0.0039\n",
            "Epoch [42/50], Train Loss: 0.0026, Validation Loss: 0.0039\n",
            "Epoch [43/50], Train Loss: 0.0026, Validation Loss: 0.0038\n",
            "Epoch [44/50], Train Loss: 0.0028, Validation Loss: 0.0039\n",
            "Epoch [45/50], Train Loss: 0.0030, Validation Loss: 0.0039\n",
            "Epoch [46/50], Train Loss: 0.0026, Validation Loss: 0.0039\n",
            "Epoch [47/50], Train Loss: 0.0026, Validation Loss: 0.0039\n",
            "Epoch [48/50], Train Loss: 0.0026, Validation Loss: 0.0038\n",
            "Epoch [49/50], Train Loss: 0.0029, Validation Loss: 0.0038\n",
            "Epoch [50/50], Train Loss: 0.0024, Validation Loss: 0.0039\n"
          ]
        }
      ]
    },
    {
      "cell_type": "code",
      "source": [
        "plt.plot(train_loss, label='Train Loss')\n",
        "plt.plot(valid_loss, label='Validation Loss')\n",
        "plt.xlabel('Epoch')\n",
        "plt.ylabel('Loss')\n",
        "plt.legend()\n",
        "plt.show()"
      ],
      "metadata": {
        "id": "xB-mwC9Gu9AS",
        "colab": {
          "base_uri": "https://localhost:8080/",
          "height": 449
        },
        "outputId": "47b05602-eafe-4bfc-e846-994f2b0c45f7"
      },
      "execution_count": null,
      "outputs": [
        {
          "output_type": "display_data",
          "data": {
            "text/plain": [
              "<Figure size 640x480 with 1 Axes>"
            ],
            "image/png": "[encoded data removed]"
          },
          "metadata": {}
        }
      ]
    },
    {
      "cell_type": "code",
      "source": [
        "torch.save(model, f'epoch{num_epochs}.pth')"
      ],
      "metadata": {
        "id": "wsIqDPOHOWwf"
      },
      "execution_count": null,
      "outputs": []
    },
    {
      "cell_type": "code",
      "source": [
        "music_name = \"mBR0\""
      ],
      "metadata": {
        "id": "rZcGqojQcVvf"
      },
      "execution_count": null,
      "outputs": []
    },
    {
      "cell_type": "code",
      "source": [
        "file_path = f\"/content/drive/MyDrive/Data/AIST_Audio/{music_name}.wav\"\n",
        "waveform, sample_rate = torchaudio.load(file_path)\n",
        "data = AudioToMelSpectrogram(waveform, sample_rate, 450).unsqueeze(0)\n",
        "\n",
        "result = model(data)\n",
        "\n",
        "file_path = f\"model_output_{music_name}_{num_epochs}.txt\"\n",
        "with open(file_path, 'w') as file:\n",
        "  for seq in result[0]:\n",
        "    for val in seq:\n",
        "      message = \"{:.4f} \".format(val)\n",
        "      file.write(message)\n",
        "    file.write(\"\\n\")"
      ],
      "metadata": {
        "id": "5zKiDXLhUCdS"
      },
      "execution_count": null,
      "outputs": []
    }
  ]
}