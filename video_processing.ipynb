{
  "nbformat": 4,
  "nbformat_minor": 0,
  "metadata": {
    "colab": {
      "provenance": [],
      "authorship_tag": "ABX9TyMo/jSN3mWYnFisgp6aWnW1",
      "include_colab_link": true
    },
    "kernelspec": {
      "name": "python3",
      "display_name": "Python 3"
    },
    "language_info": {
      "name": "python"
    }
  },
  "cells": [
    {
      "cell_type": "markdown",
      "metadata": {
        "id": "view-in-github",
        "colab_type": "text"
      },
      "source": [
        "<a href=\"https://colab.research.google.com/github/CastleJH/Music-To-Dance/blob/main/video_processing.ipynb\" target=\"_parent\"><img src=\"https://colab.research.google.com/assets/colab-badge.svg\" alt=\"Open In Colab\"/></a>"
      ]
    },
    {
      "cell_type": "code",
      "source": [
        "!pip install moviepy\n",
        "!pip install ffmpeg-python"
      ],
      "metadata": {
        "id": "0WxFK9M_ZZx6",
        "colab": {
          "base_uri": "https://localhost:8080/"
        },
        "outputId": "0380c5c8-2fcd-49e0-ed1b-ab2b0800aff5"
      },
      "execution_count": 1,
      "outputs": [
        {
          "output_type": "stream",
          "name": "stdout",
          "text": [
            "Looking in indexes: https://pypi.org/simple, https://us-python.pkg.dev/colab-wheels/public/simple/\n",
            "Requirement already satisfied: moviepy in /usr/local/lib/python3.10/dist-packages (1.0.3)\n",
            "Requirement already satisfied: decorator<5.0,>=4.0.2 in /usr/local/lib/python3.10/dist-packages (from moviepy) (4.4.2)\n",
            "Requirement already satisfied: tqdm<5.0,>=4.11.2 in /usr/local/lib/python3.10/dist-packages (from moviepy) (4.65.0)\n",
            "Requirement already satisfied: requests<3.0,>=2.8.1 in /usr/local/lib/python3.10/dist-packages (from moviepy) (2.27.1)\n",
            "Requirement already satisfied: proglog<=1.0.0 in /usr/local/lib/python3.10/dist-packages (from moviepy) (0.1.10)\n",
            "Requirement already satisfied: numpy>=1.17.3 in /usr/local/lib/python3.10/dist-packages (from moviepy) (1.22.4)\n",
            "Requirement already satisfied: imageio<3.0,>=2.5 in /usr/local/lib/python3.10/dist-packages (from moviepy) (2.25.1)\n",
            "Requirement already satisfied: imageio-ffmpeg>=0.2.0 in /usr/local/lib/python3.10/dist-packages (from moviepy) (0.4.8)\n",
            "Requirement already satisfied: pillow>=8.3.2 in /usr/local/lib/python3.10/dist-packages (from imageio<3.0,>=2.5->moviepy) (8.4.0)\n",
            "Requirement already satisfied: urllib3<1.27,>=1.21.1 in /usr/local/lib/python3.10/dist-packages (from requests<3.0,>=2.8.1->moviepy) (1.26.15)\n",
            "Requirement already satisfied: certifi>=2017.4.17 in /usr/local/lib/python3.10/dist-packages (from requests<3.0,>=2.8.1->moviepy) (2022.12.7)\n",
            "Requirement already satisfied: charset-normalizer~=2.0.0 in /usr/local/lib/python3.10/dist-packages (from requests<3.0,>=2.8.1->moviepy) (2.0.12)\n",
            "Requirement already satisfied: idna<4,>=2.5 in /usr/local/lib/python3.10/dist-packages (from requests<3.0,>=2.8.1->moviepy) (3.4)\n",
            "Looking in indexes: https://pypi.org/simple, https://us-python.pkg.dev/colab-wheels/public/simple/\n",
            "Collecting ffmpeg-python\n",
            "  Downloading ffmpeg_python-0.2.0-py3-none-any.whl (25 kB)\n",
            "Requirement already satisfied: future in /usr/local/lib/python3.10/dist-packages (from ffmpeg-python) (0.18.3)\n",
            "Installing collected packages: ffmpeg-python\n",
            "Successfully installed ffmpeg-python-0.2.0\n"
          ]
        }
      ]
    },
    {
      "cell_type": "code",
      "source": [
        "import moviepy.editor as mp\n",
        "\n",
        "def CutVideoAndSound(video_path):\n",
        "  video = mp.VideoFileClip(video_path)\n",
        "\n",
        "  frame_rate = video.fps\n",
        "  print(\"Frame rate:\", frame_rate)\n",
        "\n",
        "  duration = video.duration\n",
        "  print(\"Video duration:\", duration, \"seconds\")\n",
        "\n",
        "  cut_video = video\n",
        "  if (duration <= 17):\n",
        "    # 가운데에서 15초 자르기\n",
        "    cut_size = (video.duration - 10) / 2\n",
        "    start_time = int(cut_size)\n",
        "    end_time = start_time + 15\n",
        "    cut_video = video.subclip(start_time, end_time)\n",
        "  else:\n",
        "    # 2초부터 17초 자르기\n",
        "    cut_video = video.subclip(2, 17)\n",
        "\n",
        "  new_name = video_path.split(\".\")[0]\n",
        "  output_video_path = \"cut_\" + new_name + \".mp4\"\n",
        "  cut_video.write_videofile(output_video_path)\n",
        "\n",
        "  output_audio_path = new_name + \".wav\"\n",
        "  cut_video.audio.write_audiofile(output_audio_path, codec=\"pcm_s16le\")"
      ],
      "metadata": {
        "id": "1axwV168fDxv"
      },
      "execution_count": 2,
      "outputs": []
    },
    {
      "cell_type": "code",
      "source": [
        "CutVideoAndSound(\"PSY_That_That.mp4\")"
      ],
      "metadata": {
        "colab": {
          "base_uri": "https://localhost:8080/"
        },
        "id": "OmMGxVVQgM5k",
        "outputId": "e46cdceb-2b38-4b41-c5c4-8a61a1378d41"
      },
      "execution_count": 6,
      "outputs": [
        {
          "output_type": "stream",
          "name": "stdout",
          "text": [
            "Frame rate: 24.0\n",
            "Video duration: 31.46 seconds\n",
            "Moviepy - Building video cut_PSY_That_That.mp4.\n",
            "MoviePy - Writing audio in cut_PSY_That_ThatTEMP_MPY_wvf_snd.mp3\n"
          ]
        },
        {
          "output_type": "stream",
          "name": "stderr",
          "text": []
        },
        {
          "output_type": "stream",
          "name": "stdout",
          "text": [
            "MoviePy - Done.\n",
            "Moviepy - Writing video cut_PSY_That_That.mp4\n",
            "\n"
          ]
        },
        {
          "output_type": "stream",
          "name": "stderr",
          "text": []
        },
        {
          "output_type": "stream",
          "name": "stdout",
          "text": [
            "Moviepy - Done !\n",
            "Moviepy - video ready cut_PSY_That_That.mp4\n",
            "MoviePy - Writing audio in PSY_That_That.wav\n"
          ]
        },
        {
          "output_type": "stream",
          "name": "stderr",
          "text": [
            "                                                                    "
          ]
        },
        {
          "output_type": "stream",
          "name": "stdout",
          "text": [
            "MoviePy - Done.\n"
          ]
        },
        {
          "output_type": "stream",
          "name": "stderr",
          "text": [
            "\r"
          ]
        }
      ]
    },
    {
      "cell_type": "code",
      "source": [
        "# 영상 로드\n",
        "video_path = \"cut_PSY_That_That.mp4\"\n",
        "video = mp.VideoFileClip(video_path)\n",
        "print(\"duration: \" + str(video.duration))\n",
        "print(\"expected frame num: \" + str(video.fps * 15 + 2))\n",
        "cnt = 0\n",
        "for frame in video.iter_frames():\n",
        "    cnt += 1\n",
        "print(\"got: \" + str(cnt))"
      ],
      "metadata": {
        "colab": {
          "base_uri": "https://localhost:8080/"
        },
        "id": "bHYmsEmWbzt6",
        "outputId": "77378df8-8c69-49f1-9bc8-7412fa257f1c"
      },
      "execution_count": 7,
      "outputs": [
        {
          "output_type": "stream",
          "name": "stdout",
          "text": [
            "duration: 15.05\n",
            "expected frame num: 362.0\n"
          ]
        },
        {
          "output_type": "stream",
          "name": "stderr",
          "text": [
            "WARNING:py.warnings:/usr/local/lib/python3.10/dist-packages/moviepy/video/io/ffmpeg_reader.py:123: UserWarning: Warning: in file cut_PSY_That_That.mp4, 2764800 bytes wanted but 0 bytes read,at frame 360/362, at time 15.00/15.05 sec. Using the last valid frame instead.\n",
            "  warnings.warn(\"Warning: in file %s, \"%(self.filename)+\n",
            "\n",
            "WARNING:py.warnings:/usr/local/lib/python3.10/dist-packages/moviepy/video/io/ffmpeg_reader.py:123: UserWarning: Warning: in file cut_PSY_That_That.mp4, 2764800 bytes wanted but 0 bytes read,at frame 361/362, at time 15.04/15.05 sec. Using the last valid frame instead.\n",
            "  warnings.warn(\"Warning: in file %s, \"%(self.filename)+\n",
            "\n"
          ]
        },
        {
          "output_type": "stream",
          "name": "stdout",
          "text": [
            "got: 362\n"
          ]
        }
      ]
    }
  ]
}